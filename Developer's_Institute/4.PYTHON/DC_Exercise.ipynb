{
 "cells": [
  {
   "cell_type": "code",
   "execution_count": 1,
   "metadata": {},
   "outputs": [],
   "source": [
    "#Exercise 1, Students Grade\n",
    "\n",
    "student_grades = {\n",
    "     \"Alice\": [88, 92, 100],\n",
    "     \"Bob\": [75, 78, 80],\n",
    "     \"Charlie\": [92, 90, 85],\n",
    "     \"Dana\": [83, 88, 92],\n",
    "     \"Eli\": [78, 80, 72]\n",
    "    }"
   ]
  },
  {
   "cell_type": "code",
   "execution_count": 2,
   "metadata": {},
   "outputs": [],
   "source": [
    "# Calculate the average grade for each student\n",
    "\n",
    "student_averages = {}\n",
    "for name, grades in student_grades.items():\n",
    "     average = sum(grades) / len(grades)\n",
    "     student_averages[name] = average"
   ]
  },
  {
   "cell_type": "code",
   "execution_count": 3,
   "metadata": {},
   "outputs": [],
   "source": [
    "\n",
    "# Assign each student a letter grade based on their average grade\n",
    "student_letter_grades = {}\n",
    "for name, avg in student_averages.items():\n",
    "    if avg >= 90:\n",
    "         grade = 'A'\n",
    "    elif avg >= 80:\n",
    "        grade = 'B'\n",
    "    elif avg >= 70:\n",
    "        grade = 'C'\n",
    "    elif avg >= 60:\n",
    "        grade = 'D'\n",
    "    else:\n",
    "        grade = 'F'\n",
    "    student_letter_grades[name] = grade"
   ]
  },
  {
   "cell_type": "code",
   "execution_count": 4,
   "metadata": {},
   "outputs": [],
   "source": [
    "# Calculate the class average\n",
    "total_average = sum(student_averages.values())\n",
    "class_size = len(student_averages)\n",
    "class_average = total_average / class_size"
   ]
  },
  {
   "cell_type": "code",
   "execution_count": 5,
   "metadata": {},
   "outputs": [
    {
     "name": "stdout",
     "output_type": "stream",
     "text": [
      "{'Alice': 93.33333333333333, 'Bob': 77.66666666666667, 'Charlie': 89.0, 'Dana': 87.66666666666667, 'Eli': 76.66666666666667}\n",
      "{'Alice': 'A', 'Bob': 'C', 'Charlie': 'B', 'Dana': 'B', 'Eli': 'C'}\n",
      "84.86666666666667\n"
     ]
    }
   ],
   "source": [
    "print(student_averages)\n",
    "print(student_letter_grades)\n",
    "print(class_average)\n",
    "\n",
    "max_name_length = max(len(name) for name in student_grades.keys())\n"
   ]
  },
  {
   "cell_type": "code",
   "execution_count": 7,
   "metadata": {},
   "outputs": [
    {
     "name": "stdout",
     "output_type": "stream",
     "text": [
      "Alice:   Average Grade = 93.33, Letter Grade = A\n",
      "Bob:     Average Grade = 77.67, Letter Grade = C\n",
      "Charlie: Average Grade = 89.00, Letter Grade = B\n",
      "Dana:    Average Grade = 87.67, Letter Grade = B\n",
      "Eli:     Average Grade = 76.67, Letter Grade = C\n"
     ]
    }
   ],
   "source": [
    "for name in student_grades.keys():\n",
    "    spaces = ' ' * (max_name_length - len(name))\n",
    "    print(f\"{name}:{spaces} Average Grade = {student_averages[name]:.2f}, Letter Grade = {student_letter_grades[name]}\")"
   ]
  },
  {
   "cell_type": "code",
   "execution_count": 8,
   "metadata": {},
   "outputs": [],
   "source": [
    "#Exercise 2:\n",
    "\n",
    "sales_data = [\n",
    "    {\"customer_id\": 1, \"product\": \"Smartphone\", \"price\": 600, \"quantity\": 1, \"date\": \"2023-04-03\"},\n",
    "    {\"customer_id\": 2, \"product\": \"Laptop\", \"price\": 1200, \"quantity\": 1, \"date\": \"2023-04-04\"},\n",
    "    {\"customer_id\": 1, \"product\": \"Laptop\", \"price\": 1000, \"quantity\": 1, \"date\": \"2023-04-05\"},\n",
    "    {\"customer_id\": 2, \"product\": \"Smartphone\", \"price\": 500, \"quantity\": 2, \"date\": \"2023-04-06\"},\n",
    "    {\"customer_id\": 3, \"product\": \"Headphones\", \"price\": 150, \"quantity\": 4, \"date\": \"2023-04-07\"},\n",
    "    {\"customer_id\": 3, \"product\": \"Smartphone\", \"price\": 550, \"quantity\": 1, \"date\": \"2023-04-08\"},\n",
    "    {\"customer_id\": 1, \"product\": \"Headphones\", \"price\": 100, \"quantity\": 2, \"date\": \"2023-04-09\"},\n",
    "]"
   ]
  },
  {
   "cell_type": "code",
   "execution_count": 9,
   "metadata": {},
   "outputs": [],
   "source": [
    "# 1. Total Sales Calculation\n",
    "total_sales = {}\n",
    "for transaction in sales_data:\n",
    "    product = transaction[\"product\"]\n",
    "    total_price = transaction[\"price\"] * transaction[\"quantity\"]\n",
    "    if product in total_sales:\n",
    "        total_sales[product] += total_price\n",
    "    else:\n",
    "        total_sales[product] = total_price\n"
   ]
  },
  {
   "cell_type": "code",
   "execution_count": 10,
   "metadata": {},
   "outputs": [],
   "source": [
    "# 2. Customer Spending Profile\n",
    "customer_spending = {}\n",
    "for transaction in sales_data:\n",
    "    customer_id = transaction[\"customer_id\"]\n",
    "    total_price = transaction[\"price\"] * transaction[\"quantity\"]\n",
    "    if customer_id in customer_spending:\n",
    "        customer_spending[customer_id] += total_price\n",
    "    else:\n",
    "        customer_spending[customer_id] = total_price"
   ]
  },
  {
   "cell_type": "code",
   "execution_count": 11,
   "metadata": {},
   "outputs": [],
   "source": [
    "# 3. Sales Data Enhancement\n",
    "for transaction in sales_data:\n",
    "    transaction[\"total_price\"] = transaction[\"price\"] * transaction[\"quantity\"]"
   ]
  },
  {
   "cell_type": "code",
   "execution_count": 12,
   "metadata": {},
   "outputs": [],
   "source": [
    "# 4. High-Value Transactions\n",
    "high_value_transactions = [transaction for transaction in sales_data if transaction[\"total_price\"] > 500]\n",
    "# Sorting without lambda\n",
    "high_value_transactions.sort(key=lambda x: x[\"total_price\"], reverse=True)"
   ]
  },
  {
   "cell_type": "code",
   "execution_count": 13,
   "metadata": {},
   "outputs": [],
   "source": [
    "# 5. Customer Loyalty Identification\n",
    "purchase_counts = {}\n",
    "for transaction in sales_data:\n",
    "    customer_id = transaction[\"customer_id\"]\n",
    "    if customer_id in purchase_counts:\n",
    "        purchase_counts[customer_id] += 1\n",
    "    else:\n",
    "        purchase_counts[customer_id] = 1\n",
    "loyal_customers = [customer_id for customer_id, count in purchase_counts.items() if count > 2]"
   ]
  },
  {
   "cell_type": "code",
   "execution_count": 14,
   "metadata": {},
   "outputs": [
    {
     "name": "stdout",
     "output_type": "stream",
     "text": [
      "Total Sales: {'Smartphone': 2150, 'Laptop': 2200, 'Headphones': 800}\n",
      "Customer Spending: {1: 1800, 2: 2200, 3: 1150}\n",
      "First Two Sales Data Entries: [{'customer_id': 1, 'product': 'Smartphone', 'price': 600, 'quantity': 1, 'date': '2023-04-03', 'total_price': 600}, {'customer_id': 2, 'product': 'Laptop', 'price': 1200, 'quantity': 1, 'date': '2023-04-04', 'total_price': 1200}]\n",
      "Loyal Customers: [1]\n"
     ]
    }
   ],
   "source": [
    "print(\"Total Sales:\", total_sales)\n",
    "print(\"Customer Spending:\", customer_spending)\n",
    "print(\"First Two Sales Data Entries:\", sales_data[:2])\n",
    "print(\"Loyal Customers:\", loyal_customers)"
   ]
  }
 ],
 "metadata": {
  "kernelspec": {
   "display_name": "Python 3",
   "language": "python",
   "name": "python3"
  },
  "language_info": {
   "codemirror_mode": {
    "name": "ipython",
    "version": 3
   },
   "file_extension": ".py",
   "mimetype": "text/x-python",
   "name": "python",
   "nbconvert_exporter": "python",
   "pygments_lexer": "ipython3",
   "version": "3.12.3"
  }
 },
 "nbformat": 4,
 "nbformat_minor": 2
}
