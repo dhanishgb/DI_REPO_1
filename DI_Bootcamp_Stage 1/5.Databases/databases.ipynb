{
 "cells": [
  {
   "cell_type": "code",
   "execution_count": 5,
   "metadata": {},
   "outputs": [
    {
     "name": "stdout",
     "output_type": "stream",
     "text": [
      "Sucessfully connected to the database\n"
     ]
    }
   ],
   "source": [
    "import psycopg2\n",
    "def connection(db_name, db_user,db_password,db_host,db_port):\n",
    "    try:\n",
    "        conn = psycopg2.connect(\n",
    "            dbname=db_name,\n",
    "            user=db_user,\n",
    "            password=db_password,\n",
    "            host=db_host,\n",
    "            port=db_port\n",
    "        )\n",
    "        print('Sucessfully connected to the database')\n",
    "        return conn\n",
    "    except Exception as e:\n",
    "        print(e)\n",
    "        return None\n",
    "#create connection\n",
    "params={\n",
    "    \"db_name\": \"class143\",\n",
    "    \"db_user\": \"class143_owner\",\n",
    "    \"db_password\": 'BThOV0lZb3YU',\n",
    "    \"db_host\": 'ep-holy-lab-a2xm39f8.eu-central-1.aws.neon.tech',\n",
    "    \"db_port\": 5432\n",
    "}\n",
    "conn=connection(**params)\n",
    "conn.autocommit=True"
   ]
  },
  {
   "cell_type": "code",
   "execution_count": 6,
   "metadata": {},
   "outputs": [
    {
     "name": "stdout",
     "output_type": "stream",
     "text": [
      "(1, 'Louis Vuitton', 'Model 5', 'Black')\n"
     ]
    }
   ],
   "source": [
    "def execute_query(conn, query):\n",
    "    try:\n",
    "        cursor = conn.cursor()\n",
    "        cursor.execute(query)\n",
    "        # print('Query executed successfully')\n",
    "        return cursor\n",
    "    except Exception as e:\n",
    "        print(f\"Error: {str(e)}\")\n",
    "        return None\n",
    "\n",
    "query=\"SELECT * FROM bags\"\n",
    "results=execute_query(conn, query).fetchall()\n",
    "for result in results:\n",
    "    print(result)\n",
    "    # print(result[1])"
   ]
  },
  {
   "cell_type": "code",
   "execution_count": null,
   "metadata": {},
   "outputs": [],
   "source": []
  }
 ],
 "metadata": {
  "kernelspec": {
   "display_name": "Python 3",
   "language": "python",
   "name": "python3"
  },
  "language_info": {
   "codemirror_mode": {
    "name": "ipython",
    "version": 3
   },
   "file_extension": ".py",
   "mimetype": "text/x-python",
   "name": "python",
   "nbconvert_exporter": "python",
   "pygments_lexer": "ipython3",
   "version": "3.12.3"
  }
 },
 "nbformat": 4,
 "nbformat_minor": 2
}
