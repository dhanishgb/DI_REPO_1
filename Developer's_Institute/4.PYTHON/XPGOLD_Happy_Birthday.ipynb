{
 "cells": [
  {
   "cell_type": "code",
   "execution_count": 1,
   "metadata": {},
   "outputs": [],
   "source": [
    "from datetime import datetime\n",
    "\n",
    "def is_leap_year(year):\n",
    "    # Check if the given year is a leap year\n",
    "    return (year % 4 == 0 and year % 100 != 0) or (year % 400 == 0)\n",
    "\n",
    "def birthday_cake():\n",
    "    # Ask the user for their birthdate in DD/MM/YYYY format\n",
    "    birthdate = input(\"Enter your birthdate (DD/MM/YYYY): \")\n",
    "    \n",
    "    # Convert the birthdate string to a datetime object\n",
    "    birthdate_date = datetime.strptime(birthdate, \"%d/%m/%Y\")\n",
    "    \n",
    "    # Calculate the user's age\n",
    "    today = datetime.today()\n",
    "    age = today.year - birthdate_date.year - ((today.month, today.day) < (birthdate_date.month, birthdate_date.day))\n",
    "    \n",
    "    # Get the last digit of their age\n",
    "    candles = age % 10\n",
    "    \n",
    "    # Determine if they were born in a leap year\n",
    "    leap_year = is_leap_year(birthdate_date.year)\n",
    "    \n",
    "    # Function to display a cake with the specified number of candles\n",
    "    def display_cake(candles):\n",
    "        # Create the string of candles based on the last digit of the user's age\n",
    "        candle_str = \"i\" * candles if candles > 0 else \"\"\n",
    "        \n",
    "        # Display the cake\n",
    "        print(f\"       ___{candle_str}___\")\n",
    "        print(\"      |:H:a:p:p:y:|\")\n",
    "        print(\"    __|___________|__\")\n",
    "        print(\"   |^^^^^^^^^^^^^^^^^|\")\n",
    "        print(\"   |:B:i:r:t:h:d:a:y:|\")\n",
    "        print(\"   |                 |\")\n",
    "        print(\"   ~~~~~~~~~~~~~~~~~~~\")\n",
    "    \n",
    "    # Display the cake (twice if it's a leap year)\n",
    "    if leap_year:\n",
    "        print(\"You were born in a leap year! Here's two cakes for you!\")\n",
    "        display_cake(candles)\n",
    "        display_cake(candles)\n",
    "    else:\n",
    "        display_cake(candles)\n",
    "\n",
    "# Call the function\n",
    "birthday_cake()\n"
   ]
  }
 ],
 "metadata": {
  "kernelspec": {
   "display_name": "Python 3",
   "language": "python",
   "name": "python3"
  },
  "language_info": {
   "codemirror_mode": {
    "name": "ipython",
    "version": 3
   },
   "file_extension": ".py",
   "mimetype": "text/x-python",
   "name": "python",
   "nbconvert_exporter": "python",
   "pygments_lexer": "ipython3",
   "version": "3.12.3"
  }
 },
 "nbformat": 4,
 "nbformat_minor": 2
}
