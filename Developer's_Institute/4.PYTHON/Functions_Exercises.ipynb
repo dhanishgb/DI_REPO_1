{
 "cells": [
  {
   "cell_type": "code",
   "execution_count": 1,
   "metadata": {},
   "outputs": [
    {
     "name": "stdout",
     "output_type": "stream",
     "text": [
      "I am learning how to write Python functions in this course.\n"
     ]
    }
   ],
   "source": [
    "#Exercise 1\n",
    "\n",
    "def display_message():\n",
    "    print(\"I am learning how to write Python functions in this course.\")\n",
    "\n",
    "# Call the function\n",
    "display_message()\n"
   ]
  },
  {
   "cell_type": "code",
   "execution_count": 2,
   "metadata": {},
   "outputs": [
    {
     "name": "stdout",
     "output_type": "stream",
     "text": [
      "One of my favorite books is Alice in Wonderland.\n"
     ]
    }
   ],
   "source": [
    "#Exercise 2\n",
    "\n",
    "def favorite_book(title):\n",
    "    print(f\"One of my favorite books is {title}.\")\n",
    "\n",
    "# Call the function with a book title\n",
    "favorite_book(\"Alice in Wonderland\")\n"
   ]
  },
  {
   "cell_type": "code",
   "execution_count": 3,
   "metadata": {},
   "outputs": [
    {
     "name": "stdout",
     "output_type": "stream",
     "text": [
      "Reykjavik is in Iceland.\n",
      "Paris is in France.\n"
     ]
    }
   ],
   "source": [
    "#Exercise 3\n",
    "\n",
    "def describe_city(city, country=\"Iceland\"):\n",
    "    print(f\"{city} is in {country}.\")\n",
    "\n",
    "# Call the function with both city and country\n",
    "describe_city(\"Reykjavik\")\n",
    "\n",
    "# Call the function with a different city and country\n",
    "describe_city(\"Paris\", \"France\")\n"
   ]
  },
  {
   "cell_type": "code",
   "execution_count": 4,
   "metadata": {},
   "outputs": [
    {
     "name": "stdout",
     "output_type": "stream",
     "text": [
      "Fail! Your number: 50, Random number: 77\n"
     ]
    }
   ],
   "source": [
    "#Exercise 4\n",
    "\n",
    "import random\n",
    "\n",
    "def compare_numbers(user_number):\n",
    "    if 1 <= user_number <= 100:\n",
    "        random_number = random.randint(1, 100)\n",
    "        if user_number == random_number:\n",
    "            print(f\"Success! You guessed the correct number: {user_number}\")\n",
    "        else:\n",
    "            print(f\"Fail! Your number: {user_number}, Random number: {random_number}\")\n",
    "    else:\n",
    "        print(\"Please enter a number between 1 and 100.\")\n",
    "\n",
    "# Example usage\n",
    "compare_numbers(50)\n"
   ]
  },
  {
   "cell_type": "code",
   "execution_count": 5,
   "metadata": {},
   "outputs": [
    {
     "name": "stdout",
     "output_type": "stream",
     "text": [
      "The size of the shirt is Large and the text is 'I love Python'.\n",
      "The size of the shirt is Medium and the text is 'I love Python'.\n",
      "The size of the shirt is Small and the text is 'Code is life!'.\n"
     ]
    }
   ],
   "source": [
    "#Exercise 5\n",
    "\n",
    "def make_shirt(size=\"Large\", message=\"I love Python\"):\n",
    "    print(f\"The size of the shirt is {size} and the text is '{message}'.\")\n",
    "\n",
    "# Call the function for a large shirt with the default message\n",
    "make_shirt()\n",
    "\n",
    "# Call the function for a medium shirt with the default message\n",
    "make_shirt(size=\"Medium\")\n",
    "\n",
    "# Call the function for a shirt of any size with a custom message\n",
    "make_shirt(size=\"Small\", message=\"Code is life!\")\n"
   ]
  },
  {
   "cell_type": "code",
   "execution_count": 6,
   "metadata": {},
   "outputs": [
    {
     "name": "stdout",
     "output_type": "stream",
     "text": [
      "Harry Houdini the Great\n",
      "David Blaine the Great\n",
      "Criss Angel the Great\n"
     ]
    }
   ],
   "source": [
    "#Exercise 6\n",
    "\n",
    "magician_names = ['Harry Houdini', 'David Blaine', 'Criss Angel']\n",
    "\n",
    "# Function to print each magician's name\n",
    "def show_magicians(magicians):\n",
    "    for magician in magicians:\n",
    "        print(magician)\n",
    "\n",
    "# Function to modify the list by adding \"the Great\" to each name\n",
    "def make_great(magicians):\n",
    "    for i in range(len(magicians)):\n",
    "        magicians[i] = f\"{magicians[i]} the Great\"\n",
    "\n",
    "# Modify the list of magicians\n",
    "make_great(magician_names)\n",
    "\n",
    "# Display the modified list of magicians\n",
    "show_magicians(magician_names)\n"
   ]
  }
 ],
 "metadata": {
  "kernelspec": {
   "display_name": "Python 3",
   "language": "python",
   "name": "python3"
  },
  "language_info": {
   "codemirror_mode": {
    "name": "ipython",
    "version": 3
   },
   "file_extension": ".py",
   "mimetype": "text/x-python",
   "name": "python",
   "nbconvert_exporter": "python",
   "pygments_lexer": "ipython3",
   "version": "3.12.3"
  }
 },
 "nbformat": 4,
 "nbformat_minor": 2
}
