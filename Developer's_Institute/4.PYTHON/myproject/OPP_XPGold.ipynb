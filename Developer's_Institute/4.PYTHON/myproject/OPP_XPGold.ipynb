{
 "cells": [
  {
   "cell_type": "code",
   "execution_count": null,
   "metadata": {},
   "outputs": [
    {
     "name": "stdout",
     "output_type": "stream",
     "text": [
      "Perimeter of the circle: 31.42\n",
      "Area of the circle: 78.54\n",
      "A circle is a shape consisting of all points in a plane that are equidistant from a given point called the center.\n"
     ]
    }
   ],
   "source": [
    "#Exercise 1\n",
    "\n",
    "import math\n",
    "\n",
    "# Class definition\n",
    "class Circle:\n",
    "    def __init__(self, radius=1.0):\n",
    "        self.radius = radius\n",
    "\n",
    "    def compute_perimeter(self):\n",
    "        # Formula: Perimeter = 2 * π * radius\n",
    "        return 2 * math.pi * self.radius\n",
    "\n",
    "    def compute_area(self):\n",
    "        # Formula: Area = π * radius^2\n",
    "        return math.pi * (self.radius ** 2)\n",
    "\n",
    "    @staticmethod\n",
    "    def definition():\n",
    "        print(\"A circle is a shape consisting of all points in a plane that are equidistant from a given point called the center.\")\n",
    "\n",
    "# Example usage\n",
    "circle = Circle(5)  # Circle with radius 5\n",
    "print(f\"Perimeter of the circle: {circle.compute_perimeter():.2f}\")\n",
    "print(f\"Area of the circle: {circle.compute_area():.2f}\")\n",
    "circle.definition()\n"
   ]
  },
  {
   "cell_type": "code",
   "execution_count": 2,
   "metadata": {},
   "outputs": [
    {
     "name": "stdout",
     "output_type": "stream",
     "text": [
      "Reversed list: ['d', 'b', 'e', 'a', 'c']\n",
      "Sorted list: ['a', 'b', 'c', 'd', 'e']\n",
      "Random list: [63, 40, 8, 5, 24]\n"
     ]
    }
   ],
   "source": [
    "#Exercise 2\n",
    "\n",
    "import random\n",
    "\n",
    "# Class definition\n",
    "class MyList:\n",
    "    def __init__(self, letters):\n",
    "        self.letters = letters\n",
    "\n",
    "    def get_reversed_list(self):\n",
    "        # Returns the reversed list\n",
    "        return self.letters[::-1]\n",
    "\n",
    "    def get_sorted_list(self):\n",
    "        # Returns the sorted list\n",
    "        return sorted(self.letters)\n",
    "\n",
    "    def generate_random_list(self):\n",
    "        # Generates a second list with random numbers of the same length as `letters`\n",
    "        return [random.randint(1, 100) for _ in range(len(self.letters))]\n",
    "\n",
    "# Example usage\n",
    "my_list = MyList([\"c\", \"a\", \"e\", \"b\", \"d\"])\n",
    "\n",
    "# Reversed list\n",
    "print(f\"Reversed list: {my_list.get_reversed_list()}\")\n",
    "\n",
    "# Sorted list\n",
    "print(f\"Sorted list: {my_list.get_sorted_list()}\")\n",
    "\n",
    "# Bonus: Random list\n",
    "print(f\"Random list: {my_list.generate_random_list()}\")\n"
   ]
  },
  {
   "cell_type": "code",
   "execution_count": 3,
   "metadata": {},
   "outputs": [
    {
     "ename": "SyntaxError",
     "evalue": "incomplete input (4122203719.py, line 34)",
     "output_type": "error",
     "traceback": [
      "\u001b[1;36m  Cell \u001b[1;32mIn[3], line 34\u001b[1;36m\u001b[0m\n\u001b[1;33m    if dish[\"name\"] == name:\u001b[0m\n\u001b[1;37m                            ^\u001b[0m\n\u001b[1;31mSyntaxError\u001b[0m\u001b[1;31m:\u001b[0m incomplete input\n"
     ]
    }
   ],
   "source": [
    "#Exercise 3\n",
    "\n",
    "class MenuManager:\n",
    "    def __init__(self):\n",
    "        self.menu = [\n",
    "            {\"name\": \"Soup\", \"price\": 10, \"spice\": \"B\", \"gluten\": False},\n",
    "            {\"name\": \"Hamburger\", \"price\": 15, \"spice\": \"A\", \"gluten\": True},\n",
    "            {\"name\": \"Salad\", \"price\": 18, \"spice\": \"A\", \"gluten\": False},\n",
    "            {\"name\": \"French Fries\", \"price\": 5, \"spice\": \"C\", \"gluten\": False},\n",
    "            {\"name\": \"Beef Bourguignon\", \"price\": 25, \"spice\": \"B\", \"gluten\": True},\n",
    "        ]\n",
    "\n",
    "    def add_item(self, name, price, spice, gluten):\n",
    "        # Check if the item already exists\n",
    "        for dish in self.menu:\n",
    "            if dish[\"name\"] == name:\n",
    "                print(f\"The dish '{name}' is already on the menu.\")\n",
    "                return\n",
    "        # Add the new dish\n",
    "        self.menu.append({\"name\": name, \"price\": price, \"spice\": spice, \"gluten\": gluten})\n",
    "        print(f\"The dish '{name}' has been added to the menu.\")\n",
    "\n",
    "    def update_item(self, name, price, spice, gluten):\n",
    "        for dish in self.menu:\n",
    "            if dish[\"name\"] == name:\n",
    "                # Update the existing dish\n",
    "                dish.update({\"price\": price, \"spice\": spice, \"gluten\": gluten})\n",
    "                print(f\"The dish '{name}' has been updated.\")\n",
    "                return\n",
    "        print(f\"The dish '{name}' is not in the menu. Update failed.\")\n",
    "\n",
    "    def remove_item(self, name):\n",
    "        for dish in self.menu:\n",
    "            if dish[\"name\"] == name:\n"
   ]
  }
 ],
 "metadata": {
  "kernelspec": {
   "display_name": "Python 3",
   "language": "python",
   "name": "python3"
  },
  "language_info": {
   "codemirror_mode": {
    "name": "ipython",
    "version": 3
   },
   "file_extension": ".py",
   "mimetype": "text/x-python",
   "name": "python",
   "nbconvert_exporter": "python",
   "pygments_lexer": "ipython3",
   "version": "3.12.3"
  }
 },
 "nbformat": 4,
 "nbformat_minor": 2
}
