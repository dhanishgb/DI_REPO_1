{
 "cells": [
  {
   "cell_type": "code",
   "execution_count": 35,
   "metadata": {},
   "outputs": [],
   "source": [
    "class Farm:\n",
    "    def __init__(self, name):\n",
    "        self.name = name\n",
    "        self.animals = {}\n",
    "\n",
    "    def add_animal(self, animal, count=1):\n",
    "        if animal in self.animals:\n",
    "            self.animals[animal] += count\n",
    "        else:\n",
    "            self.animals[animal] = count\n",
    "\n",
    "    def get_info(self):\n",
    "        # Header with farm's name\n",
    "        info = f\"{self.name}'s farm\\n\\n\"\n",
    "        # List animals with counts, nicely formatted\n",
    "        for animal, count in self.animals.items():\n",
    "            info += f\"{animal.ljust(10)}: {count}\\n\"\n",
    "        info += \"\\n    E-I-E-I-0!\"\n",
    "        return info\n",
    "\n",
    "    def get_animal_types(self):\n",
    "        return sorted(self.animals.keys())\n",
    "\n",
    "    def get_short_info(self):\n",
    "        animal_list = self.get_animal_types()\n",
    "        # Add 's' to pluralize the animal names\n",
    "        animal_names = [f\"{animal}s\" for animal in animal_list]\n",
    "        animals_str = \", \".join(animal_names[:-1]) + f\" and {animal_names[-1]}\"\n",
    "        return f\"{self.name}'s farm has {animals_str}.\""
   ]
  },
  {
   "cell_type": "code",
   "execution_count": 36,
   "metadata": {},
   "outputs": [
    {
     "name": "stdout",
     "output_type": "stream",
     "text": [
      "McDonald's farm\n",
      "\n",
      "cow       : 5\n",
      "sheep     : 2\n",
      "goat      : 12\n",
      "\n",
      "    E-I-E-I-0!\n"
     ]
    }
   ],
   "source": [
    "# Testing the implementation\n",
    "macdonald = Farm(\"McDonald\")\n",
    "macdonald.add_animal('cow', 5)\n",
    "macdonald.add_animal('sheep')\n",
    "macdonald.add_animal('sheep')\n",
    "macdonald.add_animal('goat', 12)\n",
    "\n",
    "print(macdonald.get_info())"
   ]
  },
  {
   "cell_type": "code",
   "execution_count": 37,
   "metadata": {},
   "outputs": [
    {
     "name": "stdout",
     "output_type": "stream",
     "text": [
      "['cow', 'goat', 'sheep']\n"
     ]
    }
   ],
   "source": [
    "print(macdonald.get_animal_types())"
   ]
  },
  {
   "cell_type": "code",
   "execution_count": 38,
   "metadata": {},
   "outputs": [
    {
     "name": "stdout",
     "output_type": "stream",
     "text": [
      "McDonald's farm has cows, goats and sheeps.\n"
     ]
    }
   ],
   "source": [
    "print(macdonald.get_short_info())"
   ]
  }
 ],
 "metadata": {
  "kernelspec": {
   "display_name": "Python 3",
   "language": "python",
   "name": "python3"
  },
  "language_info": {
   "codemirror_mode": {
    "name": "ipython",
    "version": 3
   },
   "file_extension": ".py",
   "mimetype": "text/x-python",
   "name": "python",
   "nbconvert_exporter": "python",
   "pygments_lexer": "ipython3",
   "version": "3.12.3"
  }
 },
 "nbformat": 4,
 "nbformat_minor": 2
}
