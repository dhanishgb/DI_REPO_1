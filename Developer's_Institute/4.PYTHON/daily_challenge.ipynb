{
 "cells": [
  {
   "cell_type": "code",
   "execution_count": 1,
   "metadata": {},
   "outputs": [
    {
     "name": "stdout",
     "output_type": "stream",
     "text": [
      "string not long enough\n"
     ]
    }
   ],
   "source": [
    "# Ask the user for a string\n",
    "user_input = input(\"My dog is happy and beaming\")\n",
    "\n",
    "# Check the length of the string and print the appropriate message\n",
    "if len(user_input) < 10:\n",
    "    print(\"string not long enough\")\n",
    "elif len(user_input) > 10:\n",
    "    print(\"string too long\")\n",
    "else:\n",
    "    print(\"perfect string\")\n",
    "\n",
    "    # Print the first and last characters of the string\n",
    "    print(\"First character:\", user_input[0])\n",
    "    print(\"Last character:\", user_input[-1])\n",
    "\n",
    "    # Construct the string character by character\n",
    "    for i in range(1, len(user_input) + 1):\n",
    "        print(user_input[:i])\n"
   ]
  }
 ],
 "metadata": {
  "kernelspec": {
   "display_name": "Python 3",
   "language": "python",
   "name": "python3"
  },
  "language_info": {
   "codemirror_mode": {
    "name": "ipython",
    "version": 3
   },
   "file_extension": ".py",
   "mimetype": "text/x-python",
   "name": "python",
   "nbconvert_exporter": "python",
   "pygments_lexer": "ipython3",
   "version": "3.12.3"
  }
 },
 "nbformat": 4,
 "nbformat_minor": 2
}
