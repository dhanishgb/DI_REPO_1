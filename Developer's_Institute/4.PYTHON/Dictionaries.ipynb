{
 "cells": [
  {
   "cell_type": "code",
   "execution_count": 1,
   "metadata": {},
   "outputs": [
    {
     "name": "stdout",
     "output_type": "stream",
     "text": [
      "{'Ten': 10, 'Twenty': 20, 'Thirty': 30}\n"
     ]
    }
   ],
   "source": [
    "#Exercise 1\n",
    "\n",
    "keys = ['Ten', 'Twenty', 'Thirty']\n",
    "values = [10, 20, 30]\n",
    "\n",
    "result = dict(zip(keys, values))\n",
    "print(result)\n"
   ]
  },
  {
   "cell_type": "code",
   "execution_count": 2,
   "metadata": {},
   "outputs": [
    {
     "name": "stdout",
     "output_type": "stream",
     "text": [
      "Rick has to pay $15\n",
      "Beth has to pay $15\n",
      "Morty has to pay $10\n",
      "Summer has to pay $10\n",
      "The family's total cost is $50\n"
     ]
    }
   ],
   "source": [
    "#Exercise 2\n",
    "\n",
    "family = {\"rick\": 43, \"beth\": 13, \"morty\": 5, \"summer\": 8}\n",
    "\n",
    "total_cost = 0\n",
    "\n",
    "for name, age in family.items():\n",
    "    if age < 3:\n",
    "        cost = 0\n",
    "    elif 3 <= age <= 12:\n",
    "        cost = 10\n",
    "    else:\n",
    "        cost = 15\n",
    "    print(f\"{name.capitalize()} has to pay ${cost}\")\n",
    "    total_cost += cost\n",
    "\n",
    "print(f\"The family's total cost is ${total_cost}\")\n",
    "\n",
    "\n"
   ]
  },
  {
   "cell_type": "code",
   "execution_count": 1,
   "metadata": {},
   "outputs": [],
   "source": [
    "family = {}\n",
    "total_cost = 0\n",
    "\n",
    "# Asking the user for input\n",
    "while True:\n",
    "    name = input(\"Enter a family member's name (or type 'done' to finish): \")\n",
    "    if name.lower() == 'done':\n",
    "        break\n",
    "    age = int(input(f\"Enter {name}'s age: \"))\n",
    "    family[name] = age\n",
    "\n",
    "# Calculate costs based on input\n",
    "for name, age in family.items():\n",
    "    if age < 3:\n",
    "        cost = 0\n",
    "    elif 3 <= age <= 12:\n",
    "        cost = 10\n",
    "    else:\n",
    "        cost = 15\n",
    "    print(f\"{name.capitalize()} has to pay ${cost}\")\n",
    "    total_cost += cost\n",
    "\n",
    "print(f\"The family's total cost is ${total_cost}\")\n"
   ]
  },
  {
   "cell_type": "code",
   "execution_count": 3,
   "metadata": {},
   "outputs": [],
   "source": [
    "brand[\"number_stores\"]=2"
   ]
  },
  {
   "cell_type": "code",
   "execution_count": 4,
   "metadata": {},
   "outputs": [],
   "source": [
    "#Exercise 4\n",
    "\n",
    "users = [\"Mickey\",\"Minnie\",\"Donald\",\"Ariel\",\"Pluto\"]"
   ]
  }
 ],
 "metadata": {
  "kernelspec": {
   "display_name": "Python 3",
   "language": "python",
   "name": "python3"
  },
  "language_info": {
   "codemirror_mode": {
    "name": "ipython",
    "version": 3
   },
   "file_extension": ".py",
   "mimetype": "text/x-python",
   "name": "python",
   "nbconvert_exporter": "python",
   "pygments_lexer": "ipython3",
   "version": "3.12.3"
  }
 },
 "nbformat": 4,
 "nbformat_minor": 2
}
