{
 "cells": [
  {
   "cell_type": "code",
   "execution_count": 1,
   "metadata": {},
   "outputs": [
    {
     "name": "stdout",
     "output_type": "stream",
     "text": [
      "Concatenated list: [1, 2, 3, 4, 5, 6]\n"
     ]
    }
   ],
   "source": [
    "#Exercise 1:\n",
    "\n",
    "# Define the two lists\n",
    "list1 = [1, 2, 3]\n",
    "list2 = [4, 5, 6]\n",
    "\n",
    "# Concatenate list2 to list1\n",
    "list1.extend(list2)\n",
    "\n",
    "# Print the resulting list\n",
    "print(\"Concatenated list:\", list1)\n"
   ]
  },
  {
   "cell_type": "code",
   "execution_count": 2,
   "metadata": {},
   "outputs": [
    {
     "name": "stdout",
     "output_type": "stream",
     "text": [
      "1505\n",
      "1540\n",
      "1575\n",
      "1610\n",
      "1645\n",
      "1680\n",
      "1715\n",
      "1750\n",
      "1785\n",
      "1820\n",
      "1855\n",
      "1890\n",
      "1925\n",
      "1960\n",
      "1995\n",
      "2030\n",
      "2065\n",
      "2100\n",
      "2135\n",
      "2170\n",
      "2205\n",
      "2240\n",
      "2275\n",
      "2310\n",
      "2345\n",
      "2380\n",
      "2415\n",
      "2450\n",
      "2485\n"
     ]
    }
   ],
   "source": [
    "#Exercise 2:\n",
    "\n",
    "# Define the range\n",
    "start = 1500\n",
    "end = 2500\n",
    "\n",
    "# Loop through the specified range\n",
    "for number in range(start, end + 1):\n",
    "    # Check if the number is a multiple of both 5 and 7\n",
    "    if number % 5 == 0 and number % 7 == 0:\n",
    "        # Print the number\n",
    "        print(number)\n"
   ]
  },
  {
   "cell_type": "code",
   "execution_count": 3,
   "metadata": {},
   "outputs": [],
   "source": [
    "#Exercise 3:\n",
    "\n",
    "# List of names\n",
    "names = ['Samus', 'Cortana', 'V', 'Link', 'Mario', 'Cortana', 'Samus']\n",
    "\n",
    "# Ask the user for their name\n",
    "user_name = input(\"V\")\n",
    "\n",
    "# Check if the name is in the list\n",
    "if user_name in names:\n",
    "    # Find the index of the first occurrence\n",
    "    index = names.index(user_name)\n",
    "    print(f\"The index of the first occurrence of {user_name} is {index}.\")\n",
    "else:\n",
    "    print(f\"{user_name} is not in the list.\")\n"
   ]
  },
  {
   "cell_type": "code",
   "execution_count": null,
   "metadata": {},
   "outputs": [],
   "source": [
    "#Exercise 4:\n",
    "\n"
   ]
  }
 ],
 "metadata": {
  "kernelspec": {
   "display_name": "Python 3",
   "language": "python",
   "name": "python3"
  },
  "language_info": {
   "codemirror_mode": {
    "name": "ipython",
    "version": 3
   },
   "file_extension": ".py",
   "mimetype": "text/x-python",
   "name": "python",
   "nbconvert_exporter": "python",
   "pygments_lexer": "ipython3",
   "version": "3.12.3"
  }
 },
 "nbformat": 4,
 "nbformat_minor": 2
}
