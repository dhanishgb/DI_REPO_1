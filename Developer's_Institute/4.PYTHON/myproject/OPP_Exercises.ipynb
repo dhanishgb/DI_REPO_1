{
 "cells": [
  {
   "cell_type": "code",
   "execution_count": 1,
   "metadata": {},
   "outputs": [
    {
     "name": "stdout",
     "output_type": "stream",
     "text": [
      "The oldest cat is Shadow, and is 8 years old.\n"
     ]
    }
   ],
   "source": [
    "#Exercise 1\n",
    "\n",
    "# Class definition\n",
    "class Cat:\n",
    "    def __init__(self, cat_name, cat_age):\n",
    "        self.name = cat_name\n",
    "        self.age = cat_age\n",
    "\n",
    "# Function to find the oldest cat\n",
    "def find_oldest_cat(cats):\n",
    "    oldest_cat = max(cats, key=lambda cat: cat.age)\n",
    "    return oldest_cat\n",
    "\n",
    "# Instantiating three Cat objects\n",
    "cat1 = Cat(\"Whiskers\", 5)\n",
    "cat2 = Cat(\"Mittens\", 3)\n",
    "cat3 = Cat(\"Shadow\", 8)\n",
    "\n",
    "# Finding the oldest cat\n",
    "oldest = find_oldest_cat([cat1, cat2, cat3])\n",
    "\n",
    "# Printing the result\n",
    "print(f\"The oldest cat is {oldest.name}, and is {oldest.age} years old.\")\n"
   ]
  },
  {
   "cell_type": "code",
   "execution_count": 2,
   "metadata": {},
   "outputs": [
    {
     "name": "stdout",
     "output_type": "stream",
     "text": [
      "David's dog name: Rex, height: 50 cm\n",
      "Rex goes woof!\n",
      "Rex jumps 100 cm high!\n",
      "Sarah's dog name: Teacup, height: 20 cm\n",
      "Teacup goes woof!\n",
      "Teacup jumps 40 cm high!\n",
      "The bigger dog is Rex.\n"
     ]
    }
   ],
   "source": [
    "#Exercise 2\n",
    "\n",
    "# Class definition\n",
    "class Dog:\n",
    "    def __init__(self, name, height):\n",
    "        self.name = name\n",
    "        self.height = height\n",
    "\n",
    "    def bark(self):\n",
    "        print(f\"{self.name} goes woof!\")\n",
    "\n",
    "    def jump(self):\n",
    "        print(f\"{self.name} jumps {self.height * 2} cm high!\")\n",
    "\n",
    "# Creating davids_dog object\n",
    "davids_dog = Dog(\"Rex\", 50)\n",
    "print(f\"David's dog name: {davids_dog.name}, height: {davids_dog.height} cm\")\n",
    "davids_dog.bark()\n",
    "davids_dog.jump()\n",
    "\n",
    "# Creating sarahs_dog object\n",
    "sarahs_dog = Dog(\"Teacup\", 20)\n",
    "print(f\"Sarah's dog name: {sarahs_dog.name}, height: {sarahs_dog.height} cm\")\n",
    "sarahs_dog.bark()\n",
    "sarahs_dog.jump()\n",
    "\n",
    "# Check which dog is bigger\n",
    "if davids_dog.height > sarahs_dog.height:\n",
    "    print(f\"The bigger dog is {davids_dog.name}.\")\n",
    "else:\n",
    "    print(f\"The bigger dog is {sarahs_dog.name}.\")\n"
   ]
  },
  {
   "cell_type": "code",
   "execution_count": 3,
   "metadata": {},
   "outputs": [
    {
     "name": "stdout",
     "output_type": "stream",
     "text": [
      "There’s a lady who's sure\n",
      "all that glitters is gold\n",
      "and she’s buying a stairway to heaven\n"
     ]
    }
   ],
   "source": [
    "#Exercise 3\n",
    "\n",
    "# Class definition\n",
    "class Song:\n",
    "    def __init__(self, lyrics):\n",
    "        self.lyrics = lyrics\n",
    "\n",
    "    def sing_me_a_song(self):\n",
    "        for line in self.lyrics:\n",
    "            print(line)\n",
    "\n",
    "# Creating an object of the Song class\n",
    "stairway = Song([\n",
    "    \"There’s a lady who's sure\",\n",
    "    \"all that glitters is gold\",\n",
    "    \"and she’s buying a stairway to heaven\"\n",
    "])\n",
    "\n",
    "# Calling the sing_me_a_song method\n",
    "stairway.sing_me_a_song()\n"
   ]
  },
  {
   "cell_type": "code",
   "execution_count": 4,
   "metadata": {},
   "outputs": [
    {
     "name": "stdout",
     "output_type": "stream",
     "text": [
      "Giraffe added to the zoo.\n",
      "Lion added to the zoo.\n",
      "Bear added to the zoo.\n",
      "Ape added to the zoo.\n",
      "Baboon added to the zoo.\n",
      "Bear is already in the zoo.\n",
      "Animals in Ramat Gan Safari:\n",
      "Giraffe\n",
      "Lion\n",
      "Bear\n",
      "Ape\n",
      "Baboon\n",
      "Lion has been sold.\n",
      "Tiger is not in the zoo.\n",
      "1: ['Ape']\n",
      "2: ['Baboon', 'Bear']\n",
      "3: ['Giraffe']\n"
     ]
    }
   ],
   "source": [
    "#Exercise 4\n",
    "\n",
    "# Class definition\n",
    "class Zoo:\n",
    "    def __init__(self, zoo_name):\n",
    "        self.name = zoo_name\n",
    "        self.animals = []\n",
    "\n",
    "    def add_animal(self, new_animal):\n",
    "        if new_animal not in self.animals:\n",
    "            self.animals.append(new_animal)\n",
    "            print(f\"{new_animal} added to the zoo.\")\n",
    "        else:\n",
    "            print(f\"{new_animal} is already in the zoo.\")\n",
    "\n",
    "    def get_animals(self):\n",
    "        print(f\"Animals in {self.name}:\")\n",
    "        for animal in self.animals:\n",
    "            print(animal)\n",
    "\n",
    "    def sell_animal(self, animal_sold):\n",
    "        if animal_sold in self.animals:\n",
    "            self.animals.remove(animal_sold)\n",
    "            print(f\"{animal_sold} has been sold.\")\n",
    "        else:\n",
    "            print(f\"{animal_sold} is not in the zoo.\")\n",
    "\n",
    "    def sort_animals(self):\n",
    "        self.animals.sort()\n",
    "        grouped_animals = {}\n",
    "        current_letter = None\n",
    "        group_id = 1\n",
    "        \n",
    "        for animal in self.animals:\n",
    "            if current_letter != animal[0]:\n",
    "                current_letter = animal[0]\n",
    "                grouped_animals[group_id] = []\n",
    "                group_id += 1\n",
    "            grouped_animals[group_id - 1].append(animal)\n",
    "        \n",
    "        self.grouped_animals = grouped_animals\n",
    "\n",
    "    def get_groups(self):\n",
    "        for group_id, animals in self.grouped_animals.items():\n",
    "            print(f\"{group_id}: {animals}\")\n",
    "\n",
    "# Object creation and method calls\n",
    "ramat_gan_safari = Zoo(\"Ramat Gan Safari\")\n",
    "\n",
    "# Adding animals\n",
    "ramat_gan_safari.add_animal(\"Giraffe\")\n",
    "ramat_gan_safari.add_animal(\"Lion\")\n",
    "ramat_gan_safari.add_animal(\"Bear\")\n",
    "ramat_gan_safari.add_animal(\"Ape\")\n",
    "ramat_gan_safari.add_animal(\"Baboon\")\n",
    "ramat_gan_safari.add_animal(\"Bear\")  # Duplicate to test\n",
    "\n",
    "# Listing animals\n",
    "ramat_gan_safari.get_animals()\n",
    "\n",
    "# Selling an animal\n",
    "ramat_gan_safari.sell_animal(\"Lion\")\n",
    "ramat_gan_safari.sell_animal(\"Tiger\")  # Nonexistent animal\n",
    "\n",
    "# Sorting and grouping animals\n",
    "ramat_gan_safari.sort_animals()\n",
    "\n",
    "# Displaying grouped animals\n",
    "ramat_gan_safari.get_groups()\n"
   ]
  }
 ],
 "metadata": {
  "kernelspec": {
   "display_name": "Python 3",
   "language": "python",
   "name": "python3"
  },
  "language_info": {
   "codemirror_mode": {
    "name": "ipython",
    "version": 3
   },
   "file_extension": ".py",
   "mimetype": "text/x-python",
   "name": "python",
   "nbconvert_exporter": "python",
   "pygments_lexer": "ipython3",
   "version": "3.12.3"
  }
 },
 "nbformat": 4,
 "nbformat_minor": 2
}
