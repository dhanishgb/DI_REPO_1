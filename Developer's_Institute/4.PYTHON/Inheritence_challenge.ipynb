{
 "cells": [
  {
   "cell_type": "code",
   "execution_count": 58,
   "metadata": {},
   "outputs": [],
   "source": [
    "class Pets():\n",
    "    def __init__(self, animals):\n",
    "        self.animals = animals\n",
    "\n",
    "    def walk(self):\n",
    "        for animal in self.animals:\n",
    "            print(animal.walk())\n",
    "\n",
    "class Cat():\n",
    "    is_lazy = True\n",
    "\n",
    "    def __init__(self, name, age):\n",
    "        self.name = name\n",
    "        self.age = age\n",
    "\n",
    "    def walk(self):\n",
    "        return f'{self.name} is just walking around'\n",
    "\n",
    "class Bengal(Cat):\n",
    "    def sing(self, sounds):\n",
    "        return f'{sounds}'\n",
    "\n",
    "class Chartreux(Cat):\n",
    "    def sing(self, sounds):\n",
    "        return f'{sounds}'"
   ]
  },
  {
   "cell_type": "code",
   "execution_count": 59,
   "metadata": {},
   "outputs": [],
   "source": [
    "# Define the Siamese class\n",
    "class Siamese(Cat):\n",
    "    def sing(self, sounds):\n",
    "        return f'{sounds}'"
   ]
  },
  {
   "cell_type": "code",
   "execution_count": 60,
   "metadata": {},
   "outputs": [
    {
     "name": "stdout",
     "output_type": "stream",
     "text": [
      "Leo is just walking around\n",
      "Misty is just walking around\n",
      "Luna is just walking around\n"
     ]
    }
   ],
   "source": [
    "# Create instances of Bengal, Chartreux, and Siamese\n",
    "bengal = Bengal(name=\"Leo\", age=2)\n",
    "chartreux = Chartreux(name=\"Misty\", age=3)\n",
    "siamese = Siamese(name=\"Luna\", age=1)\n",
    "\n",
    "# Create a list of all cats\n",
    "all_cats = [bengal, chartreux, siamese]\n",
    "\n",
    "# Create an instance of the Pets class for Sara's pets\n",
    "sara_pets = Pets(animals=all_cats)\n",
    "\n",
    "# Take all the cats for a walk\n",
    "sara_pets.walk()"
   ]
  },
  {
   "cell_type": "code",
   "execution_count": 61,
   "metadata": {},
   "outputs": [
    {
     "name": "stdout",
     "output_type": "stream",
     "text": [
      "Buddy is barking\n",
      "Buddy's running speed: 40.0\n",
      "Max is barking\n",
      "Max's running speed: 83.33333333333334\n",
      "Bella is barking\n",
      "Bella's running speed: 37.5\n",
      "Max won the fight against Buddy!\n",
      "Max won the fight against Bella!\n",
      "Buddy won the fight against Bella!\n"
     ]
    }
   ],
   "source": [
    "#Exercise 2\n",
    "class Dog:\n",
    "    def __init__(self, name, age, weight):\n",
    "        self.name = name\n",
    "        self.age = age\n",
    "        self.weight = weight\n",
    "\n",
    "    def bark(self):\n",
    "        return f\"{self.name} is barking\"\n",
    "\n",
    "    def run_speed(self):\n",
    "        return (self.weight / self.age) * 10\n",
    "\n",
    "    def fight(self, other_dog):\n",
    "        self_power = self.run_speed() * self.weight\n",
    "        other_power = other_dog.run_speed() * other_dog.weight\n",
    "\n",
    "        if self_power > other_power:\n",
    "            return f\"{self.name} won the fight against {other_dog.name}!\"\n",
    "        elif self_power < other_power:\n",
    "            return f\"{other_dog.name} won the fight against {self.name}!\"\n",
    "        else:\n",
    "            return f\"{self.name} and {other_dog.name} are evenly matched!\"\n",
    "\n",
    "# Create three dogs\n",
    "dog1 = Dog(name=\"Buddy\", age=5, weight=20)\n",
    "dog2 = Dog(name=\"Max\", age=3, weight=25)\n",
    "dog3 = Dog(name=\"Bella\", age=4, weight=15)\n",
    "\n",
    "# Test the methods\n",
    "print(dog1.bark())\n",
    "print(f\"{dog1.name}'s running speed: {dog1.run_speed()}\")\n",
    "\n",
    "print(dog2.bark())\n",
    "print(f\"{dog2.name}'s running speed: {dog2.run_speed()}\")\n",
    "\n",
    "print(dog3.bark())\n",
    "print(f\"{dog3.name}'s running speed: {dog3.run_speed()}\")\n",
    "\n",
    "# Test the fight method\n",
    "print(dog1.fight(dog2))\n",
    "print(dog2.fight(dog3))\n",
    "print(dog3.fight(dog1))\n"
   ]
  },
  {
   "cell_type": "code",
   "execution_count": null,
   "metadata": {},
   "outputs": [],
   "source": []
  }
 ],
 "metadata": {
  "kernelspec": {
   "display_name": "Python 3",
   "language": "python",
   "name": "python3"
  },
  "language_info": {
   "codemirror_mode": {
    "name": "ipython",
    "version": 3
   },
   "file_extension": ".py",
   "mimetype": "text/x-python",
   "name": "python",
   "nbconvert_exporter": "python",
   "pygments_lexer": "ipython3",
   "version": "3.12.3"
  }
 },
 "nbformat": 4,
 "nbformat_minor": 2
}
