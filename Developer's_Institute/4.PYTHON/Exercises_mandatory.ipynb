{
 "cells": [
  {
   "cell_type": "code",
   "execution_count": 1,
   "metadata": {},
   "outputs": [
    {
     "name": "stdout",
     "output_type": "stream",
     "text": [
      "Hello world\n",
      "Hello world\n",
      "Hello world\n",
      "Hello world\n"
     ]
    }
   ],
   "source": [
    "#Exercise 1: Print the following output in one line of code:\n",
    "\n",
    "print(\"Hello world\\n\" * 4, end=\"\")\n"
   ]
  },
  {
   "cell_type": "code",
   "execution_count": 2,
   "metadata": {},
   "outputs": [
    {
     "name": "stdout",
     "output_type": "stream",
     "text": [
      "7762392\n"
     ]
    }
   ],
   "source": [
    "#Exercise 2: Print the following output in one line of code: Write code that calculates the result of: (99^3)*8 (meaning 99 to the power of 3, times 8).\n",
    "\n",
    "result = (99 ** 3) * 8\n",
    "print(result)\n"
   ]
  },
  {
   "cell_type": "code",
   "execution_count": 8,
   "metadata": {},
   "outputs": [
    {
     "data": {
      "text/plain": [
       "False"
      ]
     },
     "execution_count": 8,
     "metadata": {},
     "output_type": "execute_result"
    }
   ],
   "source": [
    "#Exercise 3: Predict the output of the following code snippets:\n",
    "\n",
    "5 < 3  #Explanation: 5 is not less than 3\n",
    "\n",
    "3 == 3  #Explanation: 3 is equal to 3.\n",
    "\n",
    "\n",
    "3 == \"3\"  #Explanation: The integer 3 is not equal to the string \"3\".\n",
    "\n",
    "\n",
    "#\"3\" > 3  #Explanation: In Python, you cannot directly compare a string and an integer using relational operators like >. This will raise a TypeError.\n",
    "\n",
    "\n",
    "\"Hello\" == \"hello\"  #Explanation: The string \"Hello\" is not equal to \"hello\" because string comparisons in Python are case-sensitive."
   ]
  },
  {
   "cell_type": "code",
   "execution_count": 10,
   "metadata": {},
   "outputs": [
    {
     "name": "stdout",
     "output_type": "stream",
     "text": [
      "I have a Lenovo computer.\n"
     ]
    }
   ],
   "source": [
    "#Exercise 4:\n",
    "\n",
    "computer_brand = \"Lenovo\"  # Replace \"Dell\" with the brand name of your computer\n",
    "print(f\"I have a {computer_brand} computer.\")\n"
   ]
  },
  {
   "cell_type": "code",
   "execution_count": 11,
   "metadata": {},
   "outputs": [
    {
     "name": "stdout",
     "output_type": "stream",
     "text": [
      "My name is Dhanishta, I am 25 years old, and I wear a size 37 shoe.\n"
     ]
    }
   ],
   "source": [
    "#Exercise 5:\n",
    "\n",
    "name= \"Dhanishta\"\n",
    "age= \"25\"\n",
    "shoe_size= \"37\"\n",
    "\n",
    "info = f\"My name is {name}, I am {age} years old, and I wear a size {shoe_size} shoe.\"\n",
    "print(info)\n"
   ]
  },
  {
   "cell_type": "code",
   "execution_count": 13,
   "metadata": {},
   "outputs": [
    {
     "name": "stdout",
     "output_type": "stream",
     "text": [
      "Hello World\n"
     ]
    }
   ],
   "source": [
    "#Exercise 6:\n",
    "\n",
    "a=10\n",
    "b=5\n",
    "\n",
    "\n",
    "if a > b:\n",
    "    print(\"Hello World\")"
   ]
  },
  {
   "cell_type": "code",
   "execution_count": 5,
   "metadata": {},
   "outputs": [
    {
     "name": "stdout",
     "output_type": "stream",
     "text": [
      "8 is even.\n"
     ]
    }
   ],
   "source": [
    "#Exercise 7:\n",
    "\n",
    "number = 8\n",
    "\n",
    "if number % 2 == 0:\n",
    "    print(f\"{number} is even.\")\n",
    "else:\n",
    "    print(f\"{number} is odd.\")\n",
    "\n",
    "\n"
   ]
  },
  {
   "cell_type": "code",
   "execution_count": 3,
   "metadata": {},
   "outputs": [
    {
     "name": "stdout",
     "output_type": "stream",
     "text": [
      "Nice to meet you, ! But alas, we are not name twins.\n"
     ]
    }
   ],
   "source": [
    "#Exercise 8:\n",
    "\n",
    "my_name = \"John\"  # Replace with your actual name\n",
    "user_name = input(\"What's your name? \")\n",
    "\n",
    "if user_name == my_name:\n",
    "    print(f\"Hey {user_name}, we have the same name! We're name twins!\")\n",
    "else:\n",
    "    print(f\"Nice to meet you, {user_name}! But alas, we are not name twins.\")\n"
   ]
  },
  {
   "cell_type": "code",
   "execution_count": 4,
   "metadata": {},
   "outputs": [
    {
     "name": "stdout",
     "output_type": "stream",
     "text": [
      "You're tall enough to ride!\n"
     ]
    }
   ],
   "source": [
    "#Exercise 9:\n",
    "\n",
    "height =154\n",
    "\n",
    "if height > 145:\n",
    "    print(\"You're tall enough to ride!\")\n",
    "else:\n",
    "    print(\"Sorry, you need to grow some more to ride.\")\n"
   ]
  }
 ],
 "metadata": {
  "kernelspec": {
   "display_name": "Python 3",
   "language": "python",
   "name": "python3"
  },
  "language_info": {
   "codemirror_mode": {
    "name": "ipython",
    "version": 3
   },
   "file_extension": ".py",
   "mimetype": "text/x-python",
   "name": "python",
   "nbconvert_exporter": "python",
   "pygments_lexer": "ipython3",
   "version": "3.12.3"
  }
 },
 "nbformat": 4,
 "nbformat_minor": 2
}
