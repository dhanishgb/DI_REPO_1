{
 "cells": [
  {
   "cell_type": "code",
   "execution_count": 1,
   "metadata": {},
   "outputs": [
    {
     "name": "stdout",
     "output_type": "stream",
     "text": [
      "my_fav_numbers: {3, 7, 9, 14, 21}\n",
      "our_fav_numbers: {3, 5, 7, 9, 12, 14, 21, 30}\n"
     ]
    }
   ],
   "source": [
    "#Exercise 1:\n",
    "\n",
    "# Create a set called my_fav_numbers with favorite numbers\n",
    "my_fav_numbers = {3, 7, 9, 14}\n",
    "\n",
    "# Add two new numbers to the set\n",
    "my_fav_numbers.update([21, 42])\n",
    "\n",
    "# Remove the last number (since sets are unordered, we remove an arbitrary element using pop)\n",
    "my_fav_numbers.remove(42)  # Removing a specific number (the \"last\" can be interpreted)\n",
    "\n",
    "# Create a set called friend_fav_numbers\n",
    "friend_fav_numbers = {5, 12, 9, 30}\n",
    "\n",
    "# Concatenate my_fav_numbers and friend_fav_numbers to a new variable called our_fav_numbers\n",
    "our_fav_numbers = my_fav_numbers.union(friend_fav_numbers)\n",
    "\n",
    "print(\"my_fav_numbers:\", my_fav_numbers)\n",
    "print(\"our_fav_numbers:\", our_fav_numbers)\n"
   ]
  },
  {
   "cell_type": "code",
   "execution_count": 2,
   "metadata": {},
   "outputs": [
    {
     "name": "stdout",
     "output_type": "stream",
     "text": [
      "(1, 2, 3, 4, 5)\n"
     ]
    }
   ],
   "source": [
    "#Exercise 2:\n",
    "\n",
    "# Original tuple\n",
    "a = (1, 2, 3)\n",
    "\n",
    "# Adding more integers by concatenating tuples\n",
    "b = a + (4, 5)\n",
    "\n",
    "print(b)\n"
   ]
  },
  {
   "cell_type": "code",
   "execution_count": 3,
   "metadata": {},
   "outputs": [
    {
     "name": "stdout",
     "output_type": "stream",
     "text": [
      "[]\n",
      "2\n"
     ]
    }
   ],
   "source": [
    "#Exercise 3:\n",
    "\n",
    "basket = [\"Banana\", \"Apples\", \"Oranges\", \"Blueberries\"]\n",
    "\n",
    "# Initial list\n",
    "basket = [\"Banana\", \"Apples\", \"Oranges\", \"Blueberries\"]\n",
    "\n",
    "# Remove \"Banana\" from the list\n",
    "basket.remove(\"Banana\")\n",
    "\n",
    "# Remove \"Blueberries\" from the list\n",
    "basket.remove(\"Blueberries\")\n",
    "\n",
    "# Add \"Kiwi\" to the end of the list\n",
    "basket.append(\"Kiwi\")\n",
    "\n",
    "# Add \"Apples\" to the beginning of the list\n",
    "basket.insert(0, \"Apples\")\n",
    "\n",
    "# Count how many apples are in the basket\n",
    "apple_count = basket.count(\"Apples\")\n",
    "\n",
    "# Empty the basket\n",
    "basket.clear()\n",
    "\n",
    "# Print the results\n",
    "print(basket)  # Empty basket\n",
    "print(apple_count)  # Number of apples\n"
   ]
  },
  {
   "cell_type": "code",
   "execution_count": 4,
   "metadata": {},
   "outputs": [
    {
     "name": "stdout",
     "output_type": "stream",
     "text": [
      "[1.5, 2.0, 2.5, 3.0, 3.5, 4.0, 4.5, 5.0]\n"
     ]
    }
   ],
   "source": [
    "#Exercise 4:\n",
    "\n",
    "#A float is a decimal number, requires more data storage than an integer\n",
    "\n",
    "import numpy as np\n",
    "\n",
    "# Generate the sequence using numpy's arange\n",
    "sequence = np.arange(1.5, 5.5, 0.5).tolist()\n",
    "\n",
    "print(sequence)\n"
   ]
  },
  {
   "cell_type": "code",
   "execution_count": 5,
   "metadata": {},
   "outputs": [
    {
     "name": "stdout",
     "output_type": "stream",
     "text": [
      "1\n",
      "2\n",
      "3\n",
      "4\n",
      "5\n",
      "6\n",
      "7\n",
      "8\n",
      "9\n",
      "10\n",
      "11\n",
      "12\n",
      "13\n",
      "14\n",
      "15\n",
      "16\n",
      "17\n",
      "18\n",
      "19\n",
      "20\n"
     ]
    }
   ],
   "source": [
    "#Exercise 5:\n",
    "\n",
    "# Print all numbers from 1 to 20\n",
    "for i in range(1, 21):\n",
    "    print(i)\n"
   ]
  },
  {
   "cell_type": "code",
   "execution_count": null,
   "metadata": {},
   "outputs": [],
   "source": [
    "#Exercise 6:\n",
    "\n",
    "#while name=true\n",
    "\n",
    "#print(name)"
   ]
  },
  {
   "cell_type": "code",
   "execution_count": 6,
   "metadata": {},
   "outputs": [
    {
     "name": "stdout",
     "output_type": "stream",
     "text": [
      "You chose a new fruit. I hope you enjoy!\n"
     ]
    }
   ],
   "source": [
    "#Exercise 7:\n",
    "\n",
    "# Ask the user to input their favorite fruits separated by spaces\n",
    "favorite_fruits = input(\"Please enter your favorite fruit(s) (separate them with a space): \").split()\n",
    "\n",
    "# Ask the user to input the name of any fruit\n",
    "chosen_fruit = input(\"Enter the name of any fruit: \")\n",
    "\n",
    "# Check if the chosen fruit is in the favorite fruits list\n",
    "if chosen_fruit in favorite_fruits:\n",
    "    print(\"You chose one of your favorite fruits! Enjoy!\")\n",
    "else:\n",
    "    print(\"You chose a new fruit. I hope you enjoy!\")\n"
   ]
  },
  {
   "cell_type": "code",
   "execution_count": 7,
   "metadata": {},
   "outputs": [
    {
     "name": "stdout",
     "output_type": "stream",
     "text": [
      "Great! I'll add  to your pizza.\n",
      "Great! I'll add  to your pizza.\n",
      "Great! I'll add  to your pizza.\n",
      "Great! I'll add  to your pizza.\n"
     ]
    }
   ],
   "source": [
    "#Exercise 8:\n",
    "\n",
    "# Initialize an empty list to store the toppings\n",
    "#toppings = []\n",
    "\n",
    "# Initialize the base price of the pizza\n",
    "#base_price = 10\n",
    "#topping_price = 2.5\n",
    "\n",
    "#while True:\n",
    "    # Ask the user to input a topping\n",
    "    #topping = input(\"Enter a pizza topping (or type 'quit' to finish): \").strip().lower()\n",
    "\n",
    "    # Check if the user wants to quit the loop\n",
    "    #if topping == 'quit':\n",
    "        #break\n",
    "\n",
    "    # Add the topping to the list\n",
    "    #toppings.append(topping)\n",
    "\n",
    "    # Print a message confirming the addition of the topping\n",
    "    #print(f\"Great! I'll add {topping} to your pizza.\")\n",
    "\n",
    "# Calculate the total price\n",
    "#total_price = base_price + (len(toppings) * topping_price)\n",
    "\n",
    "# Print all the toppings and the total price\n",
    "#print(\"\\nYour pizza will have the following toppings:\")\n",
    "#for topping in toppings:\n",
    "    #print(f\"- {topping}\")\n",
    "\n",
    "#print(f\"\\nTotal price: ${total_price:.2f}\")\n"
   ]
  },
  {
   "cell_type": "code",
   "execution_count": 1,
   "metadata": {},
   "outputs": [],
   "source": [
    "#Exercise 9:\n",
    "\n",
    "# Initialize total cost\n",
    "#total_cost = 0\n",
    "\n",
    "# Ask for the number of people\n",
    "#num_people = int(input(\"How many people are in your family? \"))\n",
    "\n",
    "#for _ in range(num_people):\n",
    "    # Ask for each person's age\n",
    "    #age = int(input(\"Enter the age of the person: \"))\n",
    "\n",
    "    # Determine the ticket price based on age\n",
    "    #if age < 3:\n",
    "        #price = 0\n",
    "    #elif 3 <= age <= 12:\n",
    "        #price = 10\n",
    "    #else:\n",
    "        #price = 15\n",
    "\n",
    "    # Add the price to the total cost\n",
    "    #total_cost += price\n",
    "\n",
    "# Print the total cost\n",
    "#print(f\"The total cost of all the family’s tickets is: ${total_cost:.2f}\")\n"
   ]
  },
  {
   "cell_type": "code",
   "execution_count": null,
   "metadata": {},
   "outputs": [],
   "source": [
    "#Exercise 10:\n",
    "\n",
    "sandwich_orders = [\"Tuna sandwich\", \"Pastrami sandwich\", \"Avocado sandwich\", \"Pastrami sandwich\", \"Egg sandwich\", \"Chicken sandwich\", \"Pastrami sandwich\"]\n",
    "\n"
   ]
  }
 ],
 "metadata": {
  "kernelspec": {
   "display_name": "Python 3",
   "language": "python",
   "name": "python3"
  },
  "language_info": {
   "codemirror_mode": {
    "name": "ipython",
    "version": 3
   },
   "file_extension": ".py",
   "mimetype": "text/x-python",
   "name": "python",
   "nbconvert_exporter": "python",
   "pygments_lexer": "ipython3",
   "version": "3.12.3"
  }
 },
 "nbformat": 4,
 "nbformat_minor": 2
}
