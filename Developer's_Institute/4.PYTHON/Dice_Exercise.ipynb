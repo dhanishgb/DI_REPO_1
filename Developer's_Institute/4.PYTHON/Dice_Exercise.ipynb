{
 "cells": [
  {
   "cell_type": "code",
   "execution_count": 1,
   "metadata": {},
   "outputs": [
    {
     "name": "stdout",
     "output_type": "stream",
     "text": [
      "Total throws: 584\n",
      "Average throws to reach doubles: 5.84\n"
     ]
    }
   ],
   "source": [
    "import random\n",
    "\n",
    "# Function to simulate rolling a dice, returning a number between 1 and 6\n",
    "def throw_dice():\n",
    "    return random.randint(1, 6)\n",
    "\n",
    "# Function to throw two dice until doubles are reached\n",
    "def throw_until_doubles():\n",
    "    throws = 0\n",
    "    while True:\n",
    "        dice1 = throw_dice()\n",
    "        dice2 = throw_dice()\n",
    "        throws += 1\n",
    "        if dice1 == dice2:\n",
    "            break\n",
    "    return throws\n",
    "\n",
    "# Main function to simulate throwing until doubles 100 times and calculate total throws\n",
    "def main():\n",
    "    results = []  # List to store the number of throws it took to reach doubles each time\n",
    "    total_throws = 0\n",
    "    \n",
    "    # Throw until doubles 100 times\n",
    "    for _ in range(100):\n",
    "        throws = throw_until_doubles()\n",
    "        results.append(throws)\n",
    "        total_throws += throws\n",
    "    \n",
    "    # Calculate the average\n",
    "    average_throws = total_throws / 100\n",
    "    \n",
    "    # Display the total and average throws\n",
    "    print(f\"Total throws: {total_throws}\")\n",
    "    print(f\"Average throws to reach doubles: {average_throws:.2f}\")\n",
    "\n",
    "# Call the main function to start the simulation\n",
    "main()\n"
   ]
  }
 ],
 "metadata": {
  "kernelspec": {
   "display_name": "Python 3",
   "language": "python",
   "name": "python3"
  },
  "language_info": {
   "codemirror_mode": {
    "name": "ipython",
    "version": 3
   },
   "file_extension": ".py",
   "mimetype": "text/x-python",
   "name": "python",
   "nbconvert_exporter": "python",
   "pygments_lexer": "ipython3",
   "version": "3.12.3"
  }
 },
 "nbformat": 4,
 "nbformat_minor": 2
}
