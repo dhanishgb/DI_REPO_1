{
 "cells": [
  {
   "cell_type": "code",
   "execution_count": 73,
   "metadata": {},
   "outputs": [],
   "source": [
    "class Farm:\n",
    "    def __init__(self, name):\n",
    "        self.name = name\n",
    "        self.animals = {}\n",
    "\n",
    "    def add_animal(self, animal, count=1):\n",
    "        if animal in self.animals:\n",
    "            self.animals[animal] += count\n",
    "        else:\n",
    "            self.animals[animal] = count\n",
    "\n",
    "    def get_info(self):\n",
    "        # Header with farm's name\n",
    "        info = f\"{self.name}'s farm\\n\\n\"\n",
    "        # List animals with counts, nicely formatted\n",
    "        for animal, count in self.animals.items():\n",
    "            info += f\"{animal.ljust(10)}: {count}\\n\"\n",
    "        info += \"\\n    E-I-E-I-0!\"\n",
    "        return info\n",
    "\n",
    "    def get_animal_types(self):\n",
    "        return sorted(self.animals.keys())\n",
    "\n",
    "    def get_short_info(self):\n",
    "        animal_list = self.get_animal_types()\n",
    "        # Add 's' to pluralize the animal names\n",
    "        animal_names = [f\"{animal}s\" for animal in animal_list]\n",
    "        animals_str = \", \".join(animal_names[:-1]) + f\" and {animal_names[-1]}\"\n",
    "        return f\"{self.name}'s farm has {animals_str}.\""
   ]
  },
  {
   "cell_type": "code",
   "execution_count": 74,
   "metadata": {},
   "outputs": [
    {
     "name": "stdout",
     "output_type": "stream",
     "text": [
      "McDonald's farm\n",
      "\n",
      "cow       : 5\n",
      "sheep     : 2\n",
      "goat      : 12\n",
      "\n",
      "    E-I-E-I-0!\n"
     ]
    }
   ],
   "source": [
    "# Testing the implementation\n",
    "macdonald = Farm(\"McDonald\")\n",
    "macdonald.add_animal('cow', 5)\n",
    "macdonald.add_animal('sheep')\n",
    "macdonald.add_animal('sheep')\n",
    "macdonald.add_animal('goat', 12)\n",
    "\n",
    "print(macdonald.get_info())"
   ]
  },
  {
   "cell_type": "code",
   "execution_count": 75,
   "metadata": {},
   "outputs": [
    {
     "name": "stdout",
     "output_type": "stream",
     "text": [
      "['cow', 'goat', 'sheep']\n"
     ]
    }
   ],
   "source": [
    "print(macdonald.get_animal_types())"
   ]
  },
  {
   "cell_type": "code",
   "execution_count": 76,
   "metadata": {},
   "outputs": [
    {
     "name": "stdout",
     "output_type": "stream",
     "text": [
      "McDonald's farm has cows, goats and sheeps.\n"
     ]
    }
   ],
   "source": [
    "print(macdonald.get_short_info())"
   ]
  },
  {
   "cell_type": "code",
   "execution_count": 77,
   "metadata": {},
   "outputs": [
    {
     "name": "stdout",
     "output_type": "stream",
     "text": [
      "blue\n"
     ]
    }
   ],
   "source": [
    "class Circle:\n",
    "    color = \"red\"\n",
    "\n",
    "class NewCircle(Circle):\n",
    "    color = \"blue\"\n",
    "\n",
    "nc = NewCircle\n",
    "print(nc.color)"
   ]
  },
  {
   "cell_type": "code",
   "execution_count": 78,
   "metadata": {},
   "outputs": [
    {
     "name": "stdout",
     "output_type": "stream",
     "text": [
      "1\n",
      "4\n"
     ]
    }
   ],
   "source": [
    "class Circle:\n",
    "    def __init__(self, diameter):\n",
    "      self.diameter = diameter\n",
    "\n",
    "    def grow(self, factor=2):\n",
    "        \"\"\"grows the circle's diameter by factor\"\"\"\n",
    "        self.diameter = self.diameter * factor\n",
    "\n",
    "class NewCircle(Circle):\n",
    "    def grow(self, factor=2):\n",
    "        \"\"\"grows the area by factor...\"\"\"\n",
    "        self.diameter = (self.diameter * factor * 2)\n",
    "\n",
    "nc = NewCircle(1)\n",
    "print(nc.diameter)\n",
    "\n",
    "nc.grow()\n",
    "\n",
    "print(nc.diameter)"
   ]
  },
  {
   "cell_type": "code",
   "execution_count": 79,
   "metadata": {},
   "outputs": [
    {
     "name": "stdout",
     "output_type": "stream",
     "text": [
      "I am an DOGGG !!! WOUAFFF!!\n"
     ]
    }
   ],
   "source": [
    "class Animal():\n",
    "    def __init__(self, type, number_legs, sound):\n",
    "        self.type = type\n",
    "        self.number_legs = number_legs\n",
    "        self.sound = sound\n",
    "\n",
    "    def make_sound(self):\n",
    "        print(f\"I am an animal, and I love saying {self.sound}\")\n",
    "\n",
    "class Dog(Animal):\n",
    "    def fetch_ball(self):\n",
    "        print(\"I am a dog, and I love fetching balls\")\n",
    "\n",
    "    def make_sound(self):\n",
    "        print(\"I am an DOGGG !!! WOUAFFF!!\")\n",
    "\n",
    "rex = Dog('dog', 4, \"Wouaf\")\n",
    "rex.make_sound()"
   ]
  },
  {
   "cell_type": "code",
   "execution_count": 80,
   "metadata": {},
   "outputs": [],
   "source": [
    "class Animal():\n",
    "    def __init__(self, type, number_legs, sound):\n",
    "        self.type = type\n",
    "        self.number_legs = number_legs\n",
    "        self.sound = sound\n",
    "\n",
    "class Dog(Animal):\n",
    "    def __init__(self, type, number_legs, sound, fetch_ball):\n",
    "        super().__init__(type, number_legs, sound)\n",
    "        # Or : Animal.__init__(self,type, number_legs, sound)\n",
    "        self.fetch_ball = fetch_ball"
   ]
  },
  {
   "cell_type": "code",
   "execution_count": 81,
   "metadata": {},
   "outputs": [
    {
     "name": "stdout",
     "output_type": "stream",
     "text": [
      "This animal is a: dog\n"
     ]
    }
   ],
   "source": [
    "rex = Dog('dog', 4, \"wouaf\", True)\n",
    "print('This animal is a:', rex.type)"
   ]
  },
  {
   "cell_type": "code",
   "execution_count": 82,
   "metadata": {},
   "outputs": [
    {
     "name": "stdout",
     "output_type": "stream",
     "text": [
      "This dog has 4  legs\n"
     ]
    }
   ],
   "source": [
    "print('This dog has', rex.number_legs , ' legs')"
   ]
  },
  {
   "cell_type": "code",
   "execution_count": 83,
   "metadata": {},
   "outputs": [
    {
     "name": "stdout",
     "output_type": "stream",
     "text": [
      "This dog makes the sound  wouaf\n"
     ]
    }
   ],
   "source": [
    "print('This dog makes the sound ', rex.sound)"
   ]
  },
  {
   "cell_type": "code",
   "execution_count": 84,
   "metadata": {},
   "outputs": [
    {
     "name": "stdout",
     "output_type": "stream",
     "text": [
      "Does this dog fetchs balls ?  True\n"
     ]
    }
   ],
   "source": [
    "print('Does this dog fetchs balls ? ', rex.fetch_ball)"
   ]
  }
 ],
 "metadata": {
  "kernelspec": {
   "display_name": "Python 3",
   "language": "python",
   "name": "python3"
  },
  "language_info": {
   "codemirror_mode": {
    "name": "ipython",
    "version": 3
   },
   "file_extension": ".py",
   "mimetype": "text/x-python",
   "name": "python",
   "nbconvert_exporter": "python",
   "pygments_lexer": "ipython3",
   "version": "3.12.3"
  }
 },
 "nbformat": 4,
 "nbformat_minor": 2
}
