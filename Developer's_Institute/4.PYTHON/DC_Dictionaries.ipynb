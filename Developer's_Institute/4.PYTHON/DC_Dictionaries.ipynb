{
 "cells": [
  {
   "cell_type": "code",
   "execution_count": 1,
   "metadata": {},
   "outputs": [],
   "source": [
    "#Challenge 1\n",
    "\n",
    "def create_index_dict(word):\n",
    "    index_dict = {}\n",
    "    for index, letter in enumerate(word):\n",
    "        if letter in index_dict:\n",
    "            index_dict[letter].append(index)\n",
    "        else:\n",
    "            index_dict[letter] = [index]\n",
    "    return index_dict"
   ]
  },
  {
   "cell_type": "code",
   "execution_count": 1,
   "metadata": {},
   "outputs": [],
   "source": [
    "#Challenge 2\n",
    "\n",
    "def convert_to_number(price_str):\n",
    "    # Remove the '$' and ',' from the price string and convert it to a float\n",
    "    return float(price_str.replace(\"$\", \"\").replace(\",\", \"\"))"
   ]
  },
  {
   "cell_type": "code",
   "execution_count": 2,
   "metadata": {},
   "outputs": [],
   "source": [
    "def affordable_items(items_purchase, wallet):\n",
    "    # Convert wallet value to a float\n",
    "    wallet_amount = convert_to_number(wallet)\n",
    "    \n",
    "    # List to store items that can be purchased\n",
    "    affordable = []"
   ]
  }
 ],
 "metadata": {
  "kernelspec": {
   "display_name": "Python 3",
   "language": "python",
   "name": "python3"
  },
  "language_info": {
   "codemirror_mode": {
    "name": "ipython",
    "version": 3
   },
   "file_extension": ".py",
   "mimetype": "text/x-python",
   "name": "python",
   "nbconvert_exporter": "python",
   "pygments_lexer": "ipython3",
   "version": "3.12.3"
  }
 },
 "nbformat": 4,
 "nbformat_minor": 2
}
